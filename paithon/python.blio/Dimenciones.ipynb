{
 "cells": [
  {
   "attachments": {},
   "cell_type": "markdown",
   "metadata": {},
   "source": [
    "## Dimenciones\n",
    "\n",
    "<h2 style=color:> </h2>"
   ]
  },
  {
   "cell_type": "code",
   "execution_count": 1,
   "metadata": {},
   "outputs": [],
   "source": [
    "import numpy as np"
   ]
  },
  {
   "attachments": {},
   "cell_type": "markdown",
   "metadata": {},
   "source": [
    "##### Generando un array de 12 elementos enteros con ramdon"
   ]
  },
  {
   "attachments": {},
   "cell_type": "markdown",
   "metadata": {},
   "source": [
    "<image src= data:image/jpeg;base64,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></image>"
   ]
  },
  {
   "cell_type": "code",
   "execution_count": 8,
   "metadata": {},
   "outputs": [
    {
     "data": {
      "text/plain": [
       "array([6, 2, 1, 4, 3, 7, 5, 5, 5, 7, 3, 3])"
      ]
     },
     "execution_count": 8,
     "metadata": {},
     "output_type": "execute_result"
    }
   ],
   "source": [
    "elementos= np.random.randint(1,10,12)\n",
    "elementos"
   ]
  },
  {
   "attachments": {},
   "cell_type": "markdown",
   "metadata": {},
   "source": [
    "##### Obtener dimencion de un arreglo"
   ]
  },
  {
   "cell_type": "code",
   "execution_count": 9,
   "metadata": {},
   "outputs": [
    {
     "data": {
      "text/plain": [
       "(12,)"
      ]
     },
     "execution_count": 9,
     "metadata": {},
     "output_type": "execute_result"
    }
   ],
   "source": [
    "np.shape(elementos)"
   ]
  },
  {
   "attachments": {},
   "cell_type": "markdown",
   "metadata": {},
   "source": [
    "#### Transformar arreglo de 12 elementos a una matriz de 4x3"
   ]
  },
  {
   "cell_type": "code",
   "execution_count": 14,
   "metadata": {},
   "outputs": [
    {
     "data": {
      "text/plain": [
       "array([[6, 2, 1],\n",
       "       [4, 3, 7],\n",
       "       [5, 5, 5],\n",
       "       [7, 3, 3]])"
      ]
     },
     "execution_count": 14,
     "metadata": {},
     "output_type": "execute_result"
    }
   ],
   "source": [
    "matriz = elementos.reshape(4,3)\n",
    "matriz"
   ]
  },
  {
   "cell_type": "code",
   "execution_count": 11,
   "metadata": {},
   "outputs": [
    {
     "data": {
      "text/plain": [
       "(4, 3)"
      ]
     },
     "execution_count": 11,
     "metadata": {},
     "output_type": "execute_result"
    }
   ],
   "source": [
    "np.shape(matriz)"
   ]
  }
 ],
 "metadata": {
  "kernelspec": {
   "display_name": "Python 3",
   "language": "python",
   "name": "python3"
  },
  "language_info": {
   "codemirror_mode": {
    "name": "ipython",
    "version": 3
   },
   "file_extension": ".py",
   "mimetype": "text/x-python",
   "name": "python",
   "nbconvert_exporter": "python",
   "pygments_lexer": "ipython3",
   "version": "3.11.2"
  },
  "orig_nbformat": 4
 },
 "nbformat": 4,
 "nbformat_minor": 2
}
